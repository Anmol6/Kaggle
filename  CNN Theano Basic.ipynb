{
 "metadata": {
  "name": ""
 },
 "nbformat": 3,
 "nbformat_minor": 0,
 "worksheets": [
  {
   "cells": [
    {
     "cell_type": "code",
     "collapsed": false,
     "input": [
      "import theano\n",
      "from theano import tensor as T\n",
      "from theano.sandbox.rng_mrg import MRG_RandomStreams as RandomStreams\n",
      "import numpy as np\n",
      "from load import mnist\n",
      "from theano.tensor.nnet.conv import conv2d\n",
      "from theano.tensor.signal.downsample import max_pool_2d"
     ],
     "language": "python",
     "metadata": {},
     "outputs": [],
     "prompt_number": 1
    },
    {
     "cell_type": "code",
     "collapsed": false,
     "input": [
      "srng = RandomStreams()\n",
      "\n",
      "def floatX(X):\n",
      "    return np.asarray(X,dtype=theano.config.floatX)\n",
      "def init_weight(shape):\n",
      "    return theano.shared(floatX(np.random.randn(*shape)*0.01))\n",
      "def rectify(X):\n",
      "    return T.maximum(X,0.)\n",
      "def softmax(X):\n",
      "    ex = T.exp(X - X.max(axis=1).dimshuffle(0,'x'))\n",
      "    return ex/ex.sum(axis=1).dimshuffle(0,'x')\n",
      "\n",
      "def RMSprop(cost, params, lr=0.001, rho  = 0.9, epsilon= 1e-6):\n",
      "    grads = T.grad(cost = cost, wrt = params)\n",
      "    updates = []\n",
      "    for p,g in zip(params,grads):\n",
      "        acc = theano.shared(p.get_value()*0.)\n",
      "        acc_new = rho*acc + (1-rho)*g**2\n",
      "        \n",
      "        \n",
      "    "
     ],
     "language": "python",
     "metadata": {},
     "outputs": []
    }
   ],
   "metadata": {}
  }
 ]
}